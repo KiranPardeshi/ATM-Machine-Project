{
 "cells": [
  {
   "cell_type": "markdown",
   "id": "765594f4",
   "metadata": {},
   "source": [
    "# ATM Machine Project"
   ]
  },
  {
   "cell_type": "code",
   "execution_count": 1,
   "id": "ac66d791",
   "metadata": {},
   "outputs": [
    {
     "name": "stdout",
     "output_type": "stream",
     "text": [
      "Welcome to state bank of India:)\n",
      "Enter  your four digit number pin:2345\n",
      "--------------------------------------------\n",
      "1.---------------withdraw-------------------\n",
      "--------------------------------------------\n",
      "2.----------Balance enquiry-----------------\n",
      "--------------------------------------------\n",
      "3.--------------Fast cash-------------------\n",
      "--------------------------------------------\n",
      "Please choose transaction1\n",
      "--------------------------------------------\n",
      "Please enter withdraw amount:5000\n",
      "Please take your amount: 5000\n"
     ]
    }
   ],
   "source": [
    "print(\"Welcome to state bank of India:)\" )\n",
    "p = int(input(\"Enter  your four digit number pin:\"))\n",
    "n = 25000\n",
    "if (p == 2345):\n",
    "    print(\"--------------------------------------------\")\n",
    "    print(\"1.---------------withdraw-------------------\")\n",
    "    print(\"--------------------------------------------\")\n",
    "    print(\"2.----------Balance enquiry-----------------\")\n",
    "    print(\"--------------------------------------------\")\n",
    "    print(\"3.--------------Fast cash-------------------\")\n",
    "    print(\"--------------------------------------------\")\n",
    "    c=int(input(\"Please choose transaction\"))\n",
    "    print(\"--------------------------------------------\")\n",
    "    if (c == 1):\n",
    "        w=int(input(\"Please enter withdraw amount:\"))\n",
    "        if (w<n and w%100==0):\n",
    "            print(\"Please take your amount:\",w)\n",
    "        elif(c==2):\n",
    "            print(\"your available amount:\",n)\n",
    "        elif(c==3):\n",
    "            print(\"1->-5000\")\n",
    "            print(\"2->-10,000\")\n",
    "            print(\"3->-15,000\")\n",
    "            print(\"4->-20,000\")\n",
    "        #else:\n",
    "            #print(\"invalid cash!,Please enter valid pin\")\n",
    "            f = int(input(\"enter  fast cash option\"))\n",
    "            if(f==1 and 5000<n):\n",
    "                print(\"Please take cash 5000\")\n",
    "            if(f==1 and 10000<n):\n",
    "                print(\"Please take your cash 10000\")\n",
    "            if(f==1 and 15000<n):\n",
    "                print(\"Please take your cash\")\n",
    "            if(f==1 and 20000<n):\n",
    "                print(\"Please take your cash\")\n",
    "            else:\n",
    "                print(\"_______________________________________________________________\")\n",
    "                print(\"Please Enter Your witdraw Amount As Per Above Amounts \")\n",
    "                print(\"_______________________________________________________________\")\n",
    "else:\n",
    "    print(\"INVALID PIN!,\\nPlease Enter Valid Pin\")        \n"
   ]
  },
  {
   "cell_type": "code",
   "execution_count": null,
   "id": "a12132cc",
   "metadata": {},
   "outputs": [],
   "source": []
  }
 ],
 "metadata": {
  "kernelspec": {
   "display_name": "Python 3 (ipykernel)",
   "language": "python",
   "name": "python3"
  },
  "language_info": {
   "codemirror_mode": {
    "name": "ipython",
    "version": 3
   },
   "file_extension": ".py",
   "mimetype": "text/x-python",
   "name": "python",
   "nbconvert_exporter": "python",
   "pygments_lexer": "ipython3",
   "version": "3.9.12"
  }
 },
 "nbformat": 4,
 "nbformat_minor": 5
}
